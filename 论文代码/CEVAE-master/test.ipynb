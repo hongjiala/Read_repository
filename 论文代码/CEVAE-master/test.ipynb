{
 "cells": [
  {
   "cell_type": "code",
   "execution_count": 1,
   "metadata": {},
   "outputs": [],
   "source": [
    "import pandas as pd\n",
    "import numpy as np\n",
    "path_data=\"C:\\\\Users\\\\LEGION\\\\Desktop\\\\科研\\\\读论文\\\\论文代码\\\\CEVAE-master\\\\datasets\\\\mydataset\\\\\"\n",
    "df = pd.read_csv(path_data + 'final_statistics1.csv', encoding='utf-8')\n",
    "df['station']=0\n",
    "data = df.values.astype(np.float64)  # Convert to float64 directly"
   ]
  },
  {
   "cell_type": "code",
   "execution_count": 2,
   "metadata": {},
   "outputs": [],
   "source": [
    "import numpy as np\n",
    "t, y, y_cf = data[:, 6][:, np.newaxis], data[:, 2][:, np.newaxis], data[:, 1][:, np.newaxis]\n",
    "mu_0, mu_1 = data[:, 2][:, np.newaxis], data[:, 3][:, np.newaxis]\n",
    "x = data[:, list(range(7, 21)) + [22]]  # Features based on indices"
   ]
  }
 ],
 "metadata": {
  "kernelspec": {
   "display_name": "graduations",
   "language": "python",
   "name": "python3"
  },
  "language_info": {
   "codemirror_mode": {
    "name": "ipython",
    "version": 3
   },
   "file_extension": ".py",
   "mimetype": "text/x-python",
   "name": "python",
   "nbconvert_exporter": "python",
   "pygments_lexer": "ipython3",
   "version": "3.8.19"
  }
 },
 "nbformat": 4,
 "nbformat_minor": 2
}
